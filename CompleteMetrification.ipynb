{
 "cells": [
  {
   "cell_type": "code",
   "execution_count": 1,
   "id": "b1eb9f90",
   "metadata": {
    "pycharm": {
     "name": "#%%\n"
    }
   },
   "outputs": [],
   "source": [
    "#imports for plane fit\n",
    "#rom Bio.PDB import *\n",
    "import numpy as np\n",
    "import math\n",
    "import numpy, scipy, scipy.optimize\n",
    "import matplotlib\n",
    "from mpl_toolkits.mplot3d import  Axes3D\n",
    "from matplotlib import cm # to colormap 3D surfaces from blue to red\n",
    "import matplotlib.pyplot as plt"
   ]
  },
  {
   "cell_type": "code",
   "execution_count": 2,
   "id": "39800a22",
   "metadata": {
    "pycharm": {
     "name": "#%%\n"
    }
   },
   "outputs": [
    {
     "name": "stdout",
     "output_type": "stream",
     "text": [
      "Unexpected exception formatting exception. Falling back to standard exception\n"
     ]
    },
    {
     "name": "stderr",
     "output_type": "stream",
     "text": [
      "Traceback (most recent call last):\n",
      "  File \"C:\\Users\\magne\\PycharmProjects\\pythonProject3\\venv\\lib\\site-packages\\IPython\\core\\interactiveshell.py\", line 3442, in run_code\n",
      "    exec(code_obj, self.user_global_ns, self.user_ns)\n",
      "  File \"C:\\Users\\magne\\AppData\\Local\\Temp\\ipykernel_28792\\2666591279.py\", line 2, in <module>\n",
      "    file = open('C:/Users/lords/Downloads/1x9n.pdb', 'r')\n",
      "  File \"C:\\Users\\magne\\PycharmProjects\\pythonProject3\\venv\\lib\\site-packages\\IPython\\core\\interactiveshell.py\", line 282, in _modified_open\n",
      "    return io_open(file, *args, **kwargs)\n",
      "FileNotFoundError: [Errno 2] No such file or directory: 'C:/Users/lords/Downloads/1x9n.pdb'\n",
      "\n",
      "During handling of the above exception, another exception occurred:\n",
      "\n",
      "Traceback (most recent call last):\n",
      "  File \"C:\\Users\\magne\\PycharmProjects\\pythonProject3\\venv\\lib\\site-packages\\IPython\\core\\interactiveshell.py\", line 2057, in showtraceback\n",
      "    stb = self.InteractiveTB.structured_traceback(\n",
      "  File \"C:\\Users\\magne\\PycharmProjects\\pythonProject3\\venv\\lib\\site-packages\\IPython\\core\\ultratb.py\", line 1118, in structured_traceback\n",
      "    return FormattedTB.structured_traceback(\n",
      "  File \"C:\\Users\\magne\\PycharmProjects\\pythonProject3\\venv\\lib\\site-packages\\IPython\\core\\ultratb.py\", line 1012, in structured_traceback\n",
      "    return VerboseTB.structured_traceback(\n",
      "  File \"C:\\Users\\magne\\PycharmProjects\\pythonProject3\\venv\\lib\\site-packages\\IPython\\core\\ultratb.py\", line 865, in structured_traceback\n",
      "    formatted_exception = self.format_exception_as_a_whole(etype, evalue, etb, number_of_lines_of_context,\n",
      "  File \"C:\\Users\\magne\\PycharmProjects\\pythonProject3\\venv\\lib\\site-packages\\IPython\\core\\ultratb.py\", line 799, in format_exception_as_a_whole\n",
      "    self.get_records(etb, number_of_lines_of_context, tb_offset) if etb else []\n",
      "  File \"C:\\Users\\magne\\PycharmProjects\\pythonProject3\\venv\\lib\\site-packages\\IPython\\core\\ultratb.py\", line 845, in get_records\n",
      "    style = stack_data.style_with_executing_node(style, self._tb_highlight)\n",
      "  File \"C:\\Users\\magne\\PycharmProjects\\pythonProject3\\venv\\lib\\site-packages\\stack_data\\core.py\", line 455, in style_with_executing_node\n",
      "    class NewStyle(style):\n",
      "  File \"C:\\Users\\magne\\PycharmProjects\\pythonProject3\\venv\\lib\\site-packages\\pygments\\style.py\", line 91, in __new__\n",
      "    ndef[4] = colorformat(styledef[3:])\n",
      "  File \"C:\\Users\\magne\\PycharmProjects\\pythonProject3\\venv\\lib\\site-packages\\pygments\\style.py\", line 58, in colorformat\n",
      "    assert False, \"wrong color format %r\" % text\n",
      "AssertionError: wrong color format 'ansiyellow'\n"
     ]
    }
   ],
   "source": [
    "#xyz cords for each phosphorous atom, normalize data\n",
    "file = open('C:/Users/lords/Downloads/1x9n.pdb', 'r')\n",
    "count = 0\n",
    "xs = []\n",
    "ys = []\n",
    "zs = []\n",
    "while True:\n",
    "\n",
    "\n",
    "    line = file.readline()\n",
    "\n",
    "    if not line:\n",
    "        break\n",
    "    a = line.split()\n",
    "    b = 0\n",
    "\n",
    "\n",
    "\n",
    "    if a[-1] == 'P':\n",
    "        if a[0] == \"ATOM\":\n",
    "            xs.append(float(a[-6]))\n",
    "            ys.append(float(a[-5]))\n",
    "            zs.append(float(a[-4]))"
   ]
  },
  {
   "cell_type": "code",
   "execution_count": null,
   "id": "3ef083b8",
   "metadata": {
    "pycharm": {
     "name": "#%%\n"
    }
   },
   "outputs": [],
   "source": [
    "#DNA representation\n",
    "fig = plt.figure()\n",
    "ax = plt.axes(projection='3d')\n",
    "for x in range(len(xs)):\n",
    "    y = ys[x]\n",
    "    y = float(y)\n",
    "    z = zs[x]\n",
    "    z = float(z)\n",
    "    x = xs[x]\n",
    "    x = float(x)\n",
    "    ax.scatter(x, y, z, c = \"blue\")\n",
    "ax.set_title(\"DNA Representation\")\n",
    "plt.show()"
   ]
  },
  {
   "cell_type": "code",
   "execution_count": null,
   "id": "6502a805",
   "metadata": {
    "pycharm": {
     "name": "#%%\n"
    }
   },
   "outputs": [],
   "source": [
    "#plane fit\n",
    "xs = np.array(xs)\n",
    "ys = np.array(ys)\n",
    "zs = np.array(zs)\n",
    "data = [xs, ys, zs]\n",
    "\n",
    "def SurfacePlot(func, data, fittedParameters):\n",
    "    f = plt.figure(figsize=(100, 100), dpi=100)\n",
    "\n",
    "    matplotlib.pyplot.grid(True)\n",
    "    axes = plt.subplot(111, projection=\"3d\")\n",
    "\n",
    "    # extract data from the single list\n",
    "    x_data = data[0]\n",
    "    y_data = data[1]\n",
    "    z_data = data[2]\n",
    "\n",
    "    xModel = np.linspace(min(x_data), max(x_data), 20)\n",
    "    yModel = np.linspace(min(y_data), max(y_data), 20)\n",
    "    X, Y = np.meshgrid(xModel, yModel)\n",
    "\n",
    "    Z = func(np.array([X, Y]), *fittedParameters)\n",
    "\n",
    "    axes.plot_surface(X, Y, Z, rstride=1, cstride=1, cmap=cm.coolwarm, linewidth=1, antialiased=True)\n",
    "\n",
    "    axes.scatter(x_data, y_data, z_data) # show data along with plotted surface\n",
    "\n",
    "    axes.set_title('Surface Plot (click-drag with mouse)') # add a title for surface plot\n",
    "    axes.set_xlabel('X Data') # X axis data label\n",
    "    axes.set_ylabel('Y Data') # Y axis data label\n",
    "    axes.set_zlabel('Z Data') # Z axis data label\n",
    "    \n",
    "    plt.show()\n",
    "    plt.close('all') # clean up after using pyplot or else there can be memory and process problems\n",
    "\n",
    "def ContourPlot(func, data, fittedParameters):\n",
    "    f = plt.figure(figsize=(100.0, 100.0), dpi=100)\n",
    "    axes = f.add_subplot(111)\n",
    "\n",
    "    # extract data from the single list\n",
    "    x_data = data[0]\n",
    "    y_data = data[1]\n",
    "    z_data = data[2]\n",
    "\n",
    "    xModel = numpy.linspace(min(x_data), max(x_data), 20)\n",
    "    yModel = numpy.linspace(min(y_data), max(y_data), 20)\n",
    "    X, Y = numpy.meshgrid(xModel, yModel)\n",
    "\n",
    "    Z = func(numpy.array([X, Y]), *fittedParameters)\n",
    "\n",
    "    axes.plot(x_data, y_data, 'o')\n",
    "\n",
    "    axes.set_title('Contour Plot') # add a title for contour plot\n",
    "    axes.set_xlabel('X Data') # X axis data label\n",
    "    axes.set_ylabel('Y Data') # Y axis data label\n",
    "\n",
    "    CS = matplotlib.pyplot.contour(X, Y, Z, 16, colors='k')\n",
    "    matplotlib.pyplot.clabel(CS, inline=1, fontsize=10) # labels for contours\n",
    "\n",
    "    plt.show()\n",
    "    plt.close('all') # clean up after using pyplot or else there can be memory and process problems\n",
    "\n",
    "def func(data, a1, a2, b):\n",
    "\n",
    "    # extract data from the single list\n",
    "    x1 = data[0]\n",
    "    x2 = data[1]\n",
    "\n",
    "    return (a1/x1)+a2*x2+b\n",
    "\n",
    "def equation(a1, a2, b):\n",
    "    return(f\"z = {a1}/x + {a2}/y + {b}\")\n",
    "\n",
    "if __name__ == \"__main__\":\n",
    "    initialParameters = [1.0, 1.0, 1.0] # these are the same as scipy default values in this example\n",
    "\n",
    "    # here a non-linear surface fit is made with scipy's curve_fit()\n",
    "    fittedParameters, pcov = scipy.optimize.curve_fit(func, [xs, ys], zs, p0 = initialParameters)\n",
    "    SurfacePlot(func, data, fittedParameters)\n",
    "\n",
    "    #SurfacePlot(func, data,fittedParameters)\n",
    "    print('fitted parameters', fittedParameters)\n",
    "\n",
    "    modelPredictions = func(data, *fittedParameters)\n",
    "\n",
    "    absError = modelPredictions - zs\n",
    "    print(modelPredictions)\n",
    "\n",
    "    SE = np.square(absError) # squared errors\n",
    "    MSE = np.mean(SE) # mean squared errors\n",
    "    RMSE = np.sqrt(MSE) # Root Mean Squared Error, RMSE\n",
    "    Rsquared = 1.0 - (np.var(absError) / np.var(zs))\n",
    "    print('RMSE:', RMSE)\n",
    "    print('R-squared:', Rsquared)\n",
    "    print('Equation', equation(fittedParameters[0], fittedParameters[1], fittedParameters[2]))"
   ]
  },
  {
   "cell_type": "code",
   "execution_count": null,
   "id": "cfa01349",
   "metadata": {
    "pycharm": {
     "name": "#%%\n"
    }
   },
   "outputs": [],
   "source": [
    "#splitting phosphorous coordinates for each helix\n",
    "print(xs)\n",
    "hm = int(len(xs)/2)\n",
    "x = xs[:hm]\n",
    "print(x)\n",
    "print(len(x))\n",
    "y = ys[:hm]\n",
    "print(y)\n",
    "print(len(y))\n",
    "z = zs[:hm]\n",
    "print(z)\n",
    "print(len(z))\n",
    "\n",
    "x1 = xs[hm:]\n",
    "print(x1)\n",
    "print(len(x1))\n",
    "y1 = ys[hm:]\n",
    "print(y1)\n",
    "print(len(y1))\n",
    "z1 = zs[hm:]\n",
    "print(z1)\n",
    "print(len(z1))"
   ]
  },
  {
   "cell_type": "code",
   "execution_count": null,
   "outputs": [],
   "source": [
    "#determining the total distance covered by the connection between the knot points and the middle distance\n",
    "\n",
    "distance_list = []\n",
    "total_distance = 0\n",
    "\n",
    "for x_coord in range(len(x)):\n",
    "    x_temp = float(x[x_coord])\n",
    "    y_temp = float(y[x_coord])\n",
    "    z_temp = float(z[x_coord])\n",
    "    \n",
    "    if (x[x_coord] + 1) != len(x):\n",
    "        x_temp1 = float(x[x_coord + 1])\n",
    "        y_temp1 = float(y[x_coord + 1])\n",
    "        z_temp1 = float(z[x_coord + 1])\n",
    "\n",
    "        distance = ((x_temp1 - x_temp)**2 + (y_temp1 - y_temp)**2 + (z_temp1 - z_temp)**2)**0.5\n",
    "        distance_list.append(distance)\n",
    "\n",
    "for distance in distance_list:\n",
    "    total_distance += distance\n",
    "\n",
    "half_length = total_distance/2\n",
    "print(half_length)\n",
    "\n",
    "distance_from_closest_point = half_length\n",
    "point_1x = 0\n",
    "point_1y = 0\n",
    "point_1z = 0\n",
    "point_2x = 0\n",
    "point_2y = 0\n",
    "point_2z = 0\n",
    "\n",
    "for distance in distance_list:\n",
    "    distance_from_closest_point -= distance\n",
    "    if distance_from_closest_point < 0:\n",
    "        distance_from_closest_point += distance\n",
    "        point_1x = float(x[distance_list.index(distance)])\n",
    "        point_1y = float(y[distance_list.index(distance)])\n",
    "        point_1z = float(z[distance_list.index(distance)])\n",
    "        point_2x = float(x[distance_list.index(distance) + 1])\n",
    "        point_2y = float(y[distance_list.index(distance) + 1])\n",
    "        point_2z = float(z[distance_list.index(distance) + 1])\n",
    "        break\n",
    "    else:\n",
    "        continue\n",
    "\n",
    "print(distance_from_closest_point)\n",
    "print(\"(\" + str(point_1x) + \",\" + str(point_1y) + \",\" + str(point_1z) + \"), (\" + str(point_2x) + \",\" + str(point_2y) + \",\" + str(point_2z) + \")\")\n",
    "\n",
    "distance_between_point = ((point_2x - point_1x)**2 + (point_2y - point_1y)**2 + (point_2z - point_1z)**2)**0.5\n",
    "print(distance_between_point)\n",
    "\n",
    "r = distance_from_closest_point/distance_between_point\n",
    "print(r)\n",
    "\n",
    "dx = point_2x-point_1x\n",
    "rdx = abs(r * dx)\n",
    "mid_x = rdx + point_1x\n",
    "\n",
    "dy = point_2y-point_1y\n",
    "rdy = abs(r * dy)\n",
    "mid_y = rdy + point_1y\n",
    "\n",
    "dz = point_2z-point_1z\n",
    "rdz = abs(r * dz)\n",
    "mid_z = rdz + point_1z\n",
    "print(\"(\" + str(mid_x) + \",\" + str(mid_y) + \",\" + str(mid_z) + \")\")"
   ],
   "metadata": {
    "collapsed": false,
    "pycharm": {
     "name": "#%%\n"
    }
   }
  },
  {
   "cell_type": "code",
   "execution_count": null,
   "outputs": [],
   "source": [],
   "metadata": {
    "collapsed": false,
    "pycharm": {
     "name": "#%%\n"
    }
   }
  }
 ],
 "metadata": {
  "kernelspec": {
   "display_name": "Python 3 (ipykernel)",
   "language": "python",
   "name": "python3"
  },
  "language_info": {
   "codemirror_mode": {
    "name": "ipython",
    "version": 3
   },
   "file_extension": ".py",
   "mimetype": "text/x-python",
   "name": "python",
   "nbconvert_exporter": "python",
   "pygments_lexer": "ipython3",
   "version": "3.9.13"
  }
 },
 "nbformat": 4,
 "nbformat_minor": 5
}